{
 "cells": [
  {
   "cell_type": "code",
   "execution_count": 1,
   "metadata": {},
   "outputs": [],
   "source": [
    "from IPython.display import display\n",
    "import matplotlib.pyplot as plt\n",
    "from sklearn import metrics\n",
    "\n",
    "import json\n",
    "import os\n",
    "import pandas as pd\n",
    "\n",
    "from util import gen_model_preds_df, report_metrics\n",
    "\n",
    "with open('SWDA_dialogue-acts.json') as f:\n",
    "    swda_tags = json.load(f, strict=False)\n",
    "swda_tags_list = list(swda_tags)\n",
    "with open('AMI-DA_dialogue-acts.json') as f:\n",
    "    ami_tags = json.load(f, strict=False)\n",
    "ami_tags_list = list(ami_tags)\n",
    "\n",
    "models = ['bert', 'bert_random-init', 'bert_frozen']\n",
    "\n",
    "model_dirs = [f'../../models/SWDA-L_{model}_2019-11-20/' for model in models]\n",
    "dfs = gen_model_preds_df('SWDA', models, model_dirs)\n",
    "\n",
    "model_dirs = [f'../../models/AMI-DA-L_{model}_2019-11-20/' for model in models]\n",
    "dfa = gen_model_preds_df('AMI-DA', models, model_dirs)\n",
    "dfa = dfa[dfa['da_tag'].notnull()]"
   ]
  },
  {
   "cell_type": "markdown",
   "metadata": {},
   "source": [
    "# Comparing performance\n",
    "\n",
    "How much does pre-training vs. fine-tuning contribute to model accuracy? \n",
    "\n",
    "We compare the DAR performance of standard Devlid, et al. (2018) pre-trained BERT (`bert`) as an utterance encoder to the same encoder architecture with no pre-training (`bert_random-init`),\n",
    "We also compare the fine-tuned model (`bert`) to BERT with pre-training, but no fine-tuning (`bert_frozen`).\n",
    "\n",
    "* `bert` -- BERT with pre-training and fine-tuning\n",
    "* `bert_frozen` -- BERT with pre-training but no fine-tuning\n",
    "* `bert_random-init` -- BERT with no pre training but with \"fine-tunining\""
   ]
  },
  {
   "cell_type": "code",
   "execution_count": 2,
   "metadata": {},
   "outputs": [
    {
     "name": "stderr",
     "output_type": "stream",
     "text": [
      "/Users/xnobwi/.virtualenvs/transformers/lib/python3.7/site-packages/sklearn/metrics/_classification.py:1268: UndefinedMetricWarning: Precision is ill-defined and being set to 0.0 in labels with no predicted samples. Use `zero_division` parameter to control this behavior.\n",
      "  _warn_prf(average, modifier, msg_start, len(result))\n"
     ]
    },
    {
     "data": {
      "text/html": [
       "<div>\n",
       "<style scoped>\n",
       "    .dataframe tbody tr th:only-of-type {\n",
       "        vertical-align: middle;\n",
       "    }\n",
       "\n",
       "    .dataframe tbody tr th {\n",
       "        vertical-align: top;\n",
       "    }\n",
       "\n",
       "    .dataframe thead th {\n",
       "        text-align: right;\n",
       "    }\n",
       "</style>\n",
       "<table border=\"1\" class=\"dataframe\">\n",
       "  <thead>\n",
       "    <tr style=\"text-align: right;\">\n",
       "      <th></th>\n",
       "      <th></th>\n",
       "      <th>SWBD</th>\n",
       "      <th>AMI</th>\n",
       "    </tr>\n",
       "  </thead>\n",
       "  <tbody>\n",
       "    <tr>\n",
       "      <th rowspan=\"4\" valign=\"top\">bert</th>\n",
       "      <th>macro precision</th>\n",
       "      <td>0.561119</td>\n",
       "      <td>0.587054</td>\n",
       "    </tr>\n",
       "    <tr>\n",
       "      <th>macro recall</th>\n",
       "      <td>0.430470</td>\n",
       "      <td>0.483137</td>\n",
       "    </tr>\n",
       "    <tr>\n",
       "      <th>macro f1</th>\n",
       "      <td>0.459891</td>\n",
       "      <td>0.500326</td>\n",
       "    </tr>\n",
       "    <tr>\n",
       "      <th>micro accuracy</th>\n",
       "      <td>0.769267</td>\n",
       "      <td>0.669527</td>\n",
       "    </tr>\n",
       "    <tr>\n",
       "      <th rowspan=\"4\" valign=\"top\">bert_random-init</th>\n",
       "      <th>macro precision</th>\n",
       "      <td>0.388113</td>\n",
       "      <td>0.397243</td>\n",
       "    </tr>\n",
       "    <tr>\n",
       "      <th>macro recall</th>\n",
       "      <td>0.313539</td>\n",
       "      <td>0.341935</td>\n",
       "    </tr>\n",
       "    <tr>\n",
       "      <th>macro f1</th>\n",
       "      <td>0.321834</td>\n",
       "      <td>0.334531</td>\n",
       "    </tr>\n",
       "    <tr>\n",
       "      <th>micro accuracy</th>\n",
       "      <td>0.738038</td>\n",
       "      <td>0.615486</td>\n",
       "    </tr>\n",
       "    <tr>\n",
       "      <th rowspan=\"4\" valign=\"top\">bert_frozen</th>\n",
       "      <th>macro precision</th>\n",
       "      <td>0.120535</td>\n",
       "      <td>0.150745</td>\n",
       "    </tr>\n",
       "    <tr>\n",
       "      <th>macro recall</th>\n",
       "      <td>0.083235</td>\n",
       "      <td>0.173323</td>\n",
       "    </tr>\n",
       "    <tr>\n",
       "      <th>macro f1</th>\n",
       "      <td>0.077471</td>\n",
       "      <td>0.144419</td>\n",
       "    </tr>\n",
       "    <tr>\n",
       "      <th>micro accuracy</th>\n",
       "      <td>0.556122</td>\n",
       "      <td>0.466002</td>\n",
       "    </tr>\n",
       "  </tbody>\n",
       "</table>\n",
       "</div>"
      ],
      "text/plain": [
       "                                      SWBD       AMI\n",
       "bert             macro precision  0.561119  0.587054\n",
       "                 macro recall     0.430470  0.483137\n",
       "                 macro f1         0.459891  0.500326\n",
       "                 micro accuracy   0.769267  0.669527\n",
       "bert_random-init macro precision  0.388113  0.397243\n",
       "                 macro recall     0.313539  0.341935\n",
       "                 macro f1         0.321834  0.334531\n",
       "                 micro accuracy   0.738038  0.615486\n",
       "bert_frozen      macro precision  0.120535  0.150745\n",
       "                 macro recall     0.083235  0.173323\n",
       "                 macro f1         0.077471  0.144419\n",
       "                 micro accuracy   0.556122  0.466002"
      ]
     },
     "execution_count": 2,
     "metadata": {},
     "output_type": "execute_result"
    }
   ],
   "source": [
    "report_metrics([dfs,dfa], models)"
   ]
  },
  {
   "cell_type": "markdown",
   "metadata": {},
   "source": [
    "# Further analysis"
   ]
  },
  {
   "cell_type": "markdown",
   "metadata": {},
   "source": [
    "## Impact of pre-training\n",
    "\n",
    "First, we consider the impact of pre-training. The pre-trained model gives a modest performance boost (%3) over the  model with no-fine tuning.\n",
    "The following figure shows how each dialogue act contributes to the increase in the accuracy of the model.\n",
    "Namely, we look at dialogue acts that `bert` gets right and `bert_random-init` gets wrong, and normalize for ground-truth dialogue act frequency."
   ]
  },
  {
   "cell_type": "markdown",
   "metadata": {},
   "source": [
    "Pre-trained bert performs better than the randomly-initialized model by about 3 percentage points, suggesting that the information learning in pre-training is at least somewhat useful in DAR.\n",
    "However, the difference in accuracy between the pre-trained model that was fine-tuned (`bert`) and the one that was not (`bert_frozen`) is much larger.\n",
    "This suggests that the representations learned in BERT's pre-training fail to encode information important to dialogue act recoginition.\n",
    "In the following analysis we consider two questions raised by these results:\n",
    "\n",
    "1. How does BERT's standard pre-training help in DAR? I.e., how does `bert` improve over `bert_random-init`?\n",
    "2. How are the representations learned in BERT's standard pre-traninig lacking for DAR? I.e, how does `bert` improve over `bert_frozen`.\n",
    "\n",
    "To answer these questions, we consider diffences in performance between the models, segmented by dialogue act."
   ]
  },
  {
   "cell_type": "code",
   "execution_count": 3,
   "metadata": {},
   "outputs": [
    {
     "name": "stderr",
     "output_type": "stream",
     "text": [
      "/Users/xnobwi/.virtualenvs/transformers/lib/python3.7/site-packages/sklearn/metrics/_classification.py:1511: UndefinedMetricWarning: F-score is ill-defined and being set to 0.0 in labels with no true nor predicted samples. Use `zero_division` parameter to control this behavior.\n",
      "  average, \"true nor predicted\", 'F-score is', len(true_sum)\n"
     ]
    },
    {
     "name": "stdout",
     "output_type": "stream",
     "text": [
      "F1 score\n"
     ]
    },
    {
     "data": {
      "image/png": "[encoded data removed]",
      "text/plain": [
       "<Figure size 1440x720 with 2 Axes>"
      ]
     },
     "metadata": {
      "needs_background": "light"
     },
     "output_type": "display_data"
    }
   ],
   "source": [
    "%matplotlib inline\n",
    "\n",
    "fig, axes = plt.subplots(nrows=2, ncols=1, figsize=(20,10))\n",
    "plt.subplots_adjust(hspace = 1)\n",
    "swda_tags_display = {t:swda_tags[t][:25] for t in swda_tags}\n",
    "ami_tags_display = {t:ami_tags[t][:25] for t in ami_tags}\n",
    "\n",
    "res_s = pd.DataFrame([\n",
    "    metrics.f1_score(dfs['da_tag'], dfs[model], swda_tags_list, average=None)\n",
    "    for model in models],\n",
    "    index=models, columns=swda_tags_list)\n",
    "(dfs['da_tag'].value_counts() / len(dfs)).plot(kind='line', color='red', ax=axes[0])\n",
    "plot = res_s.T.plot(kind='bar', ax=axes[0], color=['orange', 'gray', 'cyan'])\n",
    "\n",
    "res_a = pd.DataFrame([metrics.f1_score(dfa['da_tag'], dfa[model], ami_tags_list, average=None) \n",
    "              for model in models]\n",
    "    , index=models, columns=ami_tags_list)\n",
    "(dfa['da_tag'].value_counts() / len(dfs)).plot(kind='line', color='red', ax=axes[1])\n",
    "plot = res_a.rename(ami_tags_display, axis=1).rename(swda_tags_display, axis=1).T.plot(kind='bar', ax=axes[1], color=['orange', 'gray', 'cyan'])\n",
    "\n",
    "print(\"F1 score\")"
   ]
  },
  {
   "cell_type": "code",
   "execution_count": 5,
   "metadata": {},
   "outputs": [
    {
     "name": "stdout",
     "output_type": "stream",
     "text": [
      "bert                0.446829\n",
      "bert_random-init    0.259911\n",
      "bert_frozen         0.017233\n",
      "dtype: float64\n",
      "bert                0.462877\n",
      "bert_random-init    0.335988\n",
      "bert_frozen         0.091239\n",
      "dtype: float64\n"
     ]
    }
   ],
   "source": [
    "questions_s = ['qy', 'qw', 'qy^d', 'bh', 'qo', 'qh', '^g', 'qw^d']\n",
    "print(res_s[questions_s].mean(axis=1))\n",
    "print(res_s[[t for t in swda_tags_list if not t in questions_s]].mean(axis=1))"
   ]
  },
  {
   "cell_type": "code",
   "execution_count": null,
   "metadata": {},
   "outputs": [],
   "source": [
    "%matplotlib inline\n",
    "\n",
    "fig, axes = plt.subplots(nrows=2, ncols=1, figsize=(20,10))\n",
    "plt.subplots_adjust(hspace = 1)\n",
    "swda_tags_display = {t:swda_tags[t][:25] for t in swda_tags}\n",
    "ami_tags_display = {t:ami_tags[t][:25] for t in ami_tags}\n",
    "\n",
    "res = pd.DataFrame([\n",
    "    metrics.precision_score(dfs['da_tag'], dfs[model], swda_tags_list, average=None)\n",
    "    for model in models],\n",
    "    index=models, columns=swda_tags_list).rename(swda_tags_display, axis=1)\n",
    "(dfs['da_tag'].value_counts() / len(dfs)).plot(kind='line', color='red', ax=axes[0])\n",
    "plot = res.T.plot(kind='bar', ax=axes[0], color=['orange', 'gray', 'cyan'])\n",
    "\n",
    "res = pd.DataFrame([metrics.precision_score(dfa['da_tag'], dfa[model], ami_tags_list, average=None) \n",
    "              for model in models]\n",
    "    , index=models, columns=ami_tags_list).rename(ami_tags_display, axis=1)\n",
    "(dfa['da_tag'].value_counts() / len(dfs)).plot(kind='line', color='red', ax=axes[1])\n",
    "plot = res.T.plot(kind='bar', ax=axes[1], color=['orange', 'gray', 'cyan'])\n",
    "\n",
    "print(\"Precision\")"
   ]
  },
  {
   "cell_type": "code",
   "execution_count": null,
   "metadata": {},
   "outputs": [],
   "source": [
    "%matplotlib inline\n",
    "\n",
    "fig, axes = plt.subplots(nrows=2, ncols=1, figsize=(20,10))\n",
    "plt.subplots_adjust(hspace = 1)\n",
    "swda_tags_display = {t:swda_tags[t][:25] for t in swda_tags}\n",
    "ami_tags_display = {t:ami_tags[t][:25] for t in ami_tags}\n",
    "\n",
    "res = pd.DataFrame([\n",
    "    metrics.recall_score(dfs['da_tag'], dfs[model], swda_tags_list, average=None)\n",
    "    for model in models],\n",
    "    index=models, columns=swda_tags_list).rename(swda_tags_display, axis=1)\n",
    "(dfs['da_tag'].value_counts() / len(dfs)).plot(kind='line', color='red', ax=axes[0])\n",
    "plot = res.T.plot(kind='bar', ax=axes[0], color=['orange', 'gray', 'cyan'])\n",
    "\n",
    "res = pd.DataFrame([metrics.recall_score(dfa['da_tag'], dfa[model], ami_tags_list, average=None) \n",
    "              for model in models]\n",
    "    , index=models, columns=ami_tags_list).rename(ami_tags_display, axis=1)\n",
    "(dfa['da_tag'].value_counts() / len(dfs)).plot(kind='line', color='red', ax=axes[1])\n",
    "plot = res.T.plot(kind='bar', ax=axes[1], color=['orange', 'gray', 'cyan'])\n",
    "\n",
    "print(\"Recall\")"
   ]
  },
  {
   "cell_type": "code",
   "execution_count": null,
   "metadata": {},
   "outputs": [],
   "source": [
    "fig, axes = plt.subplots(nrows=1, ncols=2, figsize=(20,5))\n",
    "    \n",
    "tag_freq_swda = dfs['da_tag'].value_counts() / len(dfs)\n",
    "tag_freq_ami  = dfa['da_tag'].value_counts() / len(dfa)\n",
    "\n",
    "bert_beats_random = dfs[(dfs['bert']!=dfs['bert_random-init']) & (dfs['bert']==dfs['da_tag'])].da_tag.value_counts()\n",
    "normalized = (bert_beats_random / bert_beats_random.sum()) / tag_freq_swda\n",
    "normalized = (normalized / normalized.sum()).sort_values(ascending=False)\n",
    "normalized = pd.DataFrame(normalized).reset_index()\n",
    "normalized['index'] = normalized['index'].apply(swda_tags.get)\n",
    "plot1 = normalized = normalized.set_index('index')\n",
    "bert_beats_random.head(30).plot.bar(ax=axes[0])\n",
    "\n",
    "\n",
    "bert_beats_random = dfa[(dfa['bert']!=dfa['bert_random-init']) & (dfa['bert']==dfa['da_tag'])].da_tag.value_counts()\n",
    "normalized = (bert_beats_random / bert_beats_random.sum()) / tag_freq_ami\n",
    "normalized = (normalized / normalized.sum()).sort_values(ascending=False)\n",
    "normalized = pd.DataFrame(normalized).reset_index()\n",
    "normalized['index'] = normalized['index'].apply(ami_tags.get)\n",
    "normalized = normalized.set_index('index')\n",
    "plot2 = normalized.plot.bar(ax=axes[1])\n",
    "\n",
    "print(\"Effect of pre-trainiing, normalized by tag frequency\")"
   ]
  },
  {
   "cell_type": "code",
   "execution_count": null,
   "metadata": {},
   "outputs": [],
   "source": [
    "freq = (dfs[['da_tag', 'bert', 'bert_random-init', 'bert_frozen']].apply(pd.value_counts) / len(dfs)).sort_values('da_tag', ascending=False)\n",
    "freq['counts'] = dfs['da_tag'].value_counts()\n",
    "freq"
   ]
  },
  {
   "cell_type": "code",
   "execution_count": null,
   "metadata": {},
   "outputs": [],
   "source": [
    "freq = (dfa[['da_tag', 'bert', 'bert_random-init', 'bert_frozen']].apply(pd.value_counts) / len(dfa)).sort_values('da_tag', ascending=False)\n",
    "freq['counts'] = dfa['da_tag'].value_counts()\n",
    "freq"
   ]
  },
  {
   "cell_type": "code",
   "execution_count": null,
   "metadata": {},
   "outputs": [],
   "source": [
    "dfa['bert-correct'] = (dfa.da_tag == dfa.bert)\n",
    "dfa['ri-correct'] = (dfa.da_tag == dfa['bert_random-init'])\n",
    "\n",
    "a = dfa[['da_tag', 'bert-correct', 'ri-correct']].groupby('da_tag').mean()\n",
    "a['ri-diff'] = (a['bert-correct'] - a['ri-correct'])\n",
    "a = a.reset_index()\n",
    "a['da_tag_desc'] = a['da_tag'].apply(ami_tags.get)\n",
    "a.sort_values('ri-diff', ascending=False)"
   ]
  },
  {
   "cell_type": "code",
   "execution_count": null,
   "metadata": {},
   "outputs": [],
   "source": [
    "dfs['bert-correct'] = (dfs.da_tag == dfs.bert)\n",
    "dfs['ri-correct'] = (dfs.da_tag == dfs['bert_random-init'])\n",
    "\n",
    "a = dfs[['da_tag', 'bert-correct', 'ri-correct']].groupby('da_tag').mean()\n",
    "a['ri-diff'] = (a['bert-correct'] - a['ri-correct'])\n",
    "a = a.reset_index()\n",
    "a['da_tag_desc'] = a['da_tag'].apply(swda_tags.get)\n",
    "a.sort_values('ri-diff', ascending=False)"
   ]
  },
  {
   "cell_type": "markdown",
   "metadata": {},
   "source": [
    "Interestingly, much of the increase in accuracy attributable to fine-tuning in SWDA comes from corectly identifying various kinds of questions.\n",
    "\n",
    "- SWDA: Top three are rhetorical question (`qh`), open questions (`qo`), and action-directive (`ad`). \n",
    "  - Note that action-directive often takes the form of a question (\"Why don't you go first?\")\n",
    "- In AMI, the top three are elicit-offer-or-suggestion, offer, and elicit-assessment. \n",
    "  - Note that offer can take the form of a question too (\"Would you like me to do that?\")\n",
    "- quesitons likely do appear BERT's standard pre-training corpus\n",
    "- the next sentence selection task *may* encourage the model to learn representations that allow it to identify the different kinds of questions, given that their answer conditions (and therefore the form of sentences felicitously answering them) are different [are there answers following questions in books/wikipedia? rehetorical questions, maybe?]\n",
    "- It *can not* be the case that the increase in accuracy comes from improved representations of question *answers*, since the DAR RNN model is purely right-to-left.\n",
    "- TODO: Is it the case that the questions `bert_random-init` gets wrong are miss-classified as other kids of questions (this would be quite interesting!), or are the mis-classifications evenly distributed among other dialogue acts?"
   ]
  },
  {
   "cell_type": "markdown",
   "metadata": {},
   "source": [
    "## Impact of fine-tuning\n",
    "\n",
    "Next, we consider the impact of fine-tuning (or, conversely, the failures of pre-training)."
   ]
  },
  {
   "cell_type": "code",
   "execution_count": null,
   "metadata": {},
   "outputs": [],
   "source": [
    "fig, axes = plt.subplots(nrows=1, ncols=2, figsize=(20, 5))\n",
    "\n",
    "ft_beats_frozen = dfs[(dfs['bert']!=dfs['bert_frozen']) & (dfs['bert']==dfs['da_tag'])]\n",
    "ft_beats_frozen_counts = dfs[(dfs['bert']!=dfs['bert_frozen']) & (dfs['bert']==dfs['da_tag'])].da_tag.value_counts()\n",
    "normalized = (ft_beats_frozen_counts / ft_beats_frozen_counts.sum()) / tag_freq_swda\n",
    "normalized = (normalized / normalized.sum()).sort_values(ascending=False)\n",
    "normalized = pd.DataFrame(normalized).reset_index()\n",
    "normalized['index'] = normalized['index'].apply(swda_tags.get)\n",
    "normalized = normalized.set_index('index')\n",
    "normalized.head(15).plot.bar(ax=axes[0])\n",
    "\n",
    "\n",
    "ft_beats_frozen = dfa[(dfa['bert']!=dfa['bert_frozen']) & (dfa['bert']==dfa['da_tag'])]\n",
    "ft_beats_frozen_counts = dfa[(dfa['bert']!=dfa['bert_frozen']) & (dfa['bert']==dfa['da_tag'])].da_tag.value_counts()\n",
    "normalized = (ft_beats_frozen_counts / ft_beats_frozen_counts.sum()) / tag_freq_ami\n",
    "normalized = (normalized / normalized.sum()).sort_values(ascending=False)\n",
    "normalized = pd.DataFrame(normalized).reset_index()\n",
    "normalized['index'] = normalized['index'].apply(ami_tags.get)\n",
    "normalized = normalized.set_index('index')\n",
    "normalized.head(15).plot.bar(ax=axes[1])"
   ]
  },
  {
   "cell_type": "code",
   "execution_count": null,
   "metadata": {},
   "outputs": [],
   "source": [
    "dfa['bert-correct'] = (dfa.da_tag == dfa.bert)\n",
    "dfa['fz-correct'] = (dfa.da_tag == dfa['bert_frozen'])\n",
    "\n",
    "a = dfa[['da_tag', 'bert-correct', 'fz-correct']].groupby('da_tag').mean()\n",
    "a['fz-diff'] = (a['bert-correct'] - a['fz-correct'])\n",
    "a = a.reset_index()\n",
    "a['da_tag_desc'] = a['da_tag'].apply(ami_tags.get)\n",
    "a.sort_values('fz-diff', ascending=False)"
   ]
  },
  {
   "cell_type": "markdown",
   "metadata": {},
   "source": [
    "I don't have as strong a story to tell about these results. \n",
    "\n",
    "- Non-verbal (SWDA) is near the top, which makes sense because non-verbal tokens are first seen by the model in fine-tuning.\n",
    "- several question types (Wh-questions, yes-no-questions in SWDA; elicit-inform, elicit assessment) are also near the top here"
   ]
  },
  {
   "cell_type": "markdown",
   "metadata": {},
   "source": [
    "### Fine-tuning and laughter\n",
    "\n",
    "Here's another chance to see how laughter is used in DAR. \n",
    "Since the `<laughter>` token doesn't appear in the original vocabulary, only the fine-tuned models can meaningfully make use of laughter in utterance representations.\n",
    "So, how much lafter appears in utterances that the fine-tuned model gets correct and the frozen model gets wrong?"
   ]
  },
  {
   "cell_type": "code",
   "execution_count": null,
   "metadata": {},
   "outputs": [],
   "source": [
    "ft_beats_frozen = dfs[(dfs['bert']!=dfs['bert_frozen']) & (dfs['bert']==dfs['da_tag'])]\n",
    "laughter_ft = len(ft_beats_frozen[ft_beats_frozen.utt.apply(lambda x: '<laughter>' in x)]) / len(ft_beats_frozen)\n",
    "laughter_base = len(dfs[dfs.utt.apply(lambda x: '<laughter>' in x)]) / len(dfs)\n",
    "\n",
    "print('SWDA')\n",
    "print(f\"%{laughter_base*100:.2f} of utterances contain laughter overall\")\n",
    "print(f\"%{laughter_ft*100:.2f} of utterances misclassified by the frozen model, but correctly labeled by the fine-tuned model contian laughter.\")\n",
    "\n",
    "print('AMI-DA')\n",
    "ft_beats_frozen = dfa[(dfa['bert']!=dfa['bert_frozen']) & (dfa['bert']==dfa['da_tag'])]\n",
    "laughter_ft = len(ft_beats_frozen[ft_beats_frozen.utt.apply(lambda x: '<laughter>' in x)]) / len(ft_beats_frozen)\n",
    "laughter_base = len(dfa[dfa.utt.apply(lambda x: '<laughter>' in x)]) / len(dfa)\n",
    "\n",
    "print(f\"%{laughter_base*100:.2f} of utterances contain laughter overall\")\n",
    "print(f\"%{laughter_ft*100:.2f} of utterances misclassified by the frozen model, but correctly labeled by the fine-tuned model contian laughter.\")"
   ]
  },
  {
   "cell_type": "markdown",
   "metadata": {},
   "source": [
    "- For SWDA, utterances containing laugthter have an outsized impact on the improvement granted by fine-tuning.\n",
    "- For AMI, it's less pronounced \n",
    "- Perhaps laughter is more helpful for DAR in SWDA than in AMI.\n"
   ]
  },
  {
   "cell_type": "markdown",
   "metadata": {},
   "source": [
    "## How rare are the rarest words in each utterance\n",
    "Comparing...\n",
    "* overall in all utterances in the corpus\n",
    "* among utterances that pre-trained BERT gets right\n",
    "* among utterances that pre-trained BERT gets right and randomly-initialized BERT gets wrong"
   ]
  },
  {
   "cell_type": "code",
   "execution_count": null,
   "metadata": {},
   "outputs": [],
   "source": [
    "dfs['utt'] = dfs['utt'].apply(lambda x: x.lower().split())"
   ]
  },
  {
   "cell_type": "code",
   "execution_count": null,
   "metadata": {},
   "outputs": [],
   "source": [
    "words = []\n",
    "for utt in dfs['utt']:\n",
    "    words += utt"
   ]
  },
  {
   "cell_type": "code",
   "execution_count": null,
   "metadata": {},
   "outputs": [],
   "source": [
    "from collections import Counter\n",
    "words = Counter(words)"
   ]
  },
  {
   "cell_type": "code",
   "execution_count": null,
   "metadata": {},
   "outputs": [],
   "source": [
    "words_sum = sum(words.values())\n",
    "words_freq = {w: words[w] / words_sum for w in words}"
   ]
  },
  {
   "cell_type": "code",
   "execution_count": null,
   "metadata": {},
   "outputs": [],
   "source": [
    "dfs = dfs[dfs['utt'].apply(lambda x: x != [])]"
   ]
  },
  {
   "cell_type": "code",
   "execution_count": null,
   "metadata": {},
   "outputs": [],
   "source": [
    "dfs['rarest_word'] = dfs['utt'].apply(lambda x: min(map(words_freq.get, x)))"
   ]
  },
  {
   "cell_type": "code",
   "execution_count": null,
   "metadata": {},
   "outputs": [],
   "source": [
    "base_avg_freq = dfs.rarest_word.mean()\n",
    "pt_avg_freq = dfs[(dfs['bert'] == dfs['da_tag']) & (dfs['bert_random-init'] != dfs['da_tag'])]['rarest_word'].mean()"
   ]
  },
  {
   "cell_type": "code",
   "execution_count": null,
   "metadata": {},
   "outputs": [],
   "source": [
    "print(f\"Baseline average min frequency:           {base_avg_freq:.6f}\")\n",
    "print(f\"Pre-training helps average min frequency: {pt_avg_freq:.6f}\")\n",
    "print(f\"In utterances that the pre-trained model labels correctly and the randomly-initialized model labels incorrectly, \"\n",
    "      f\"the rarest word is {base_avg_freq/pt_avg_freq:.4f} times rarer than is typcial of corpus as a whole\")"
   ]
  },
  {
   "cell_type": "code",
   "execution_count": null,
   "metadata": {},
   "outputs": [],
   "source": []
  }
 ],
 "metadata": {
  "kernelspec": {
   "display_name": "transformers",
   "language": "python",
   "name": "transformers"
  },
  "language_info": {
   "codemirror_mode": {
    "name": "ipython",
    "version": 3
   },
   "file_extension": ".py",
   "mimetype": "text/x-python",
   "name": "python",
   "nbconvert_exporter": "python",
   "pygments_lexer": "ipython3",
   "version": "3.7.4"
  }
 },
 "nbformat": 4,
 "nbformat_minor": 2
}
